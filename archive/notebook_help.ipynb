{
 "cells": [
  {
   "cell_type": "code",
   "execution_count": 1,
   "metadata": {},
   "outputs": [],
   "source": [
    "import os\n",
    "import torch\n",
    "from scipy.io import loadmat\n",
    "\n",
    "mask_dir = os.path.join(os.getcwd(), 'masks')\n",
    "\n",
    "mask_pths = [os.path.join(mask_dir, mask_name) for mask_name in os.listdir('masks')]\n",
    "\n",
    "csmri_mask = [loadmat(mask_pth)['mask'] for mask_pth in mask_pths]\n",
    "\n",
    "\n",
    "class GaussianModelD:  # discrete noise levels\n",
    "    def __init__(self):\n",
    "        super().__init__()\n",
    "        \n",
    "    def __call__(self, x, sigma):\n",
    "        sigma = sigma / 255.\n",
    "        y = x + torch.randn(*x.shape) * sigma\n",
    "              \n",
    "        return y\n",
    "    \n",
    "    \n",
    "sigmas = [5, 10, 15]\n",
    "noise_model = GaussianModelD()\n",
    "    \n",
    "    "
   ]
  },
  {
   "cell_type": "code",
   "execution_count": 3,
   "metadata": {},
   "outputs": [],
   "source": [
    "import os\n",
    "\n",
    "os.chdir('..')"
   ]
  },
  {
   "cell_type": "code",
   "execution_count": 4,
   "metadata": {},
   "outputs": [
    {
     "data": {
      "text/plain": [
       "'/Users/joesh/D4IR'"
      ]
     },
     "execution_count": 4,
     "metadata": {},
     "output_type": "execute_result"
    }
   ],
   "source": [
    "os.getcwd()"
   ]
  },
  {
   "cell_type": "code",
   "execution_count": 2,
   "metadata": {},
   "outputs": [],
   "source": [
    "Ks = [4, 6, 8]"
   ]
  },
  {
   "cell_type": "code",
   "execution_count": 3,
   "metadata": {},
   "outputs": [],
   "source": [
    "mask_dir = os.path.join(os.getcwd(), 'pr_masks')\n",
    "\n",
    "mask_pths = [os.path.join(mask_dir, mask_name) for mask_name in os.listdir('pr_masks')]\n",
    "\n",
    "pr_mask = [loadmat(mask_pth)['mask'] for mask_pth in mask_pths]"
   ]
  },
  {
   "cell_type": "code",
   "execution_count": 4,
   "metadata": {},
   "outputs": [],
   "source": [
    "import numpy as np\n",
    "import torch.nn.functional as F\n",
    "import random\n",
    "from src import utils\n",
    "\n",
    "\n",
    "def build_csmri_observation(target, noise_val):\n",
    "    acc = random.choice(csmri_mask)\n",
    "    acc = torch.from_numpy(acc.astype(np.bool_))\n",
    "    y0 = utils.fft(target)\n",
    "    \n",
    "    y0 = noise_model(y0, noise_val)\n",
    "    y0[:, : ,~acc] = 0\n",
    "    Aty0 = utils.ifft(y0)\n",
    "    x0 = Aty0.clone().detach()\n",
    "    output = Aty0.clone().detach().real\n",
    "    dic = {'y0': y0, \n",
    "            'x0': x0, \n",
    "            'ATy0': Aty0, \n",
    "            'gt': target, \n",
    "            'output': output, \n",
    "            'mask': acc}\n",
    "    return dic\n",
    "\n",
    "\n",
    "\n",
    "def build_spi_observation(target, K):\n",
    "    with torch.no_grad():\n",
    "        y0 = utils.spi_forward(target, K, K**2, 1)\n",
    "        x0 = F.avg_pool2d(y0, K)\n",
    "    y0 = y0\n",
    "    x0 = x0       \n",
    "    x0 = x0.clone().detach()\n",
    "    K = torch.ones_like(target) * K / 10\n",
    "    dic = {'x0': x0, 'gt': target, 'K': K, 'y0': y0, 'output': x0.clone().detach()}\n",
    "    return dic\n",
    "        "
   ]
  },
  {
   "cell_type": "code",
   "execution_count": 5,
   "metadata": {},
   "outputs": [
    {
     "name": "stdout",
     "output_type": "stream",
     "text": [
      "x0\n",
      "torch.Size([1, 1, 128, 128])\n",
      "gt\n",
      "torch.Size([1, 1, 128, 128])\n",
      "K\n",
      "torch.Size([1, 1, 128, 128])\n",
      "y0\n",
      "torch.Size([1, 1, 512, 512])\n",
      "output\n",
      "torch.Size([1, 1, 128, 128])\n"
     ]
    }
   ],
   "source": [
    "x = torch.rand(1, 1, 128, 128)\n",
    "\n",
    "\n",
    "dic = build_spi_observation(x, 4)\n",
    "\n",
    "for key, value in dic.items():\n",
    "    print(key)\n",
    "    print(dic[key].shape)"
   ]
  },
  {
   "cell_type": "code",
   "execution_count": 6,
   "metadata": {},
   "outputs": [
    {
     "data": {
      "text/plain": [
       "(4, 128, 128)"
      ]
     },
     "execution_count": 6,
     "metadata": {},
     "output_type": "execute_result"
    }
   ],
   "source": [
    "pr_mask[2].shape"
   ]
  },
  {
   "cell_type": "code",
   "execution_count": 7,
   "metadata": {},
   "outputs": [
    {
     "data": {
      "text/plain": [
       "tensor([[[[0.4000, 0.4000, 0.4000,  ..., 0.4000, 0.4000, 0.4000],\n",
       "          [0.4000, 0.4000, 0.4000,  ..., 0.4000, 0.4000, 0.4000],\n",
       "          [0.4000, 0.4000, 0.4000,  ..., 0.4000, 0.4000, 0.4000],\n",
       "          ...,\n",
       "          [0.4000, 0.4000, 0.4000,  ..., 0.4000, 0.4000, 0.4000],\n",
       "          [0.4000, 0.4000, 0.4000,  ..., 0.4000, 0.4000, 0.4000],\n",
       "          [0.4000, 0.4000, 0.4000,  ..., 0.4000, 0.4000, 0.4000]]]])"
      ]
     },
     "execution_count": 7,
     "metadata": {},
     "output_type": "execute_result"
    }
   ],
   "source": [
    "def build_pr_observation(target, alpha_val):\n",
    "        mask = random.choice(pr_mask)\n",
    "        C = mask.shape[0]\n",
    "        mask = torch.from_numpy(mask).reshape(1, C, 128, 128)\n",
    "\n",
    "        y0 = utils.cdp_forward(torch.complex(target, torch.zeros_like(target)),\n",
    "                                mask).abs()[0]\n",
    "        y0 = noise_model(y0, alpha_val)\n",
    "        x0 = torch.ones_like(target)\n",
    "        #sigma_n = x0 * noise_lev\n",
    "        dic = {'y0': y0, 'x0': x0, 'output': x0, 'gt': target, 'mask': mask}\n",
    "        return dic\n",
    "\n",
    "build_spi_observation(x, 4)['K']"
   ]
  },
  {
   "cell_type": "code",
   "execution_count": null,
   "metadata": {},
   "outputs": [],
   "source": []
  },
  {
   "cell_type": "code",
   "execution_count": null,
   "metadata": {},
   "outputs": [],
   "source": []
  },
  {
   "cell_type": "code",
   "execution_count": 27,
   "metadata": {},
   "outputs": [],
   "source": [
    "from src.pnp.denoiser import UNetDenoiser2D\n",
    "\n",
    "class PrSolverMixin:\n",
    "    def _forward_pr(self, env_ob, parameters):\n",
    "        sigma_d, mu, tau = parameters['sigma_d'], parameters['mu'], parameters['tau']\n",
    "        state = env_ob['output']\n",
    "        y0 = env_ob['y0']\n",
    "        mask = env_ob['mask']\n",
    "        \n",
    "        x, z, u = torch.chunk(state, chunks = 3, dim = 1)\n",
    "        B = x.shape[0]\n",
    "        \n",
    "        for i in range(self.iter_num):\n",
    "            _sigma_d = sigma_d[:, i]\n",
    "            _mu = mu[:, i]\n",
    "            _tau = tau[:, i]\n",
    "            temp_var = (z - u)\n",
    "            x = self.denoiser(temp_var.real, _sigma_d)\n",
    "            \n",
    "            _tau = _tau.view(B, 1, 1, 1)\n",
    "            _mu = _mu.view(B, 1, 1, 1)\n",
    "            \n",
    "            Az = utils.cdp_forward(z, mask)  \n",
    "            y_hat = Az.abs()\n",
    "            meas_err = y_hat - y0\n",
    "            gradient_forward = meas_err/y_hat * Az\n",
    "            gradient = utils.cdp_backward(gradient_forward, mask)\n",
    "            z = z - _tau * (gradient + _mu * (z - (x + u)))\n",
    "            \n",
    "        return torch.cat((x, z, u), dim = 1)\n",
    "    \n",
    "class CsmriSolverMixin:\n",
    "    def _forward_csmri(self, env_ob, parameters):\n",
    "        mu, sigma_d = parameters['mu'], parameters['sigma_d']\n",
    "        state = env_ob['output']\n",
    "        mask = env_ob['mask']\n",
    "        y0 = env_ob['y0']\n",
    "        \n",
    "        B = state.shape[0]\n",
    "        \n",
    "        x, z, u = torch.chunk(state, chunks = 3, dim = 1)\n",
    "        #mask = mask.unsqueeze(1) \n",
    "        \n",
    "        \n",
    "        for i in range(self.iter_num):\n",
    "            _sigma_d = sigma_d[:, i]\n",
    "            _mu = mu[:, i] \n",
    "            temp_var = (z - u)\n",
    "            x = self.denoiser(temp_var.real, _sigma_d)\n",
    "            z = utils.fft(x + u)\n",
    "            _mu = _mu.view(B, 1, 1, 1)\n",
    "            temp = ((_mu * z.clone()) + y0)/(1+ _mu)\n",
    "            z[mask] = temp[mask]\n",
    "            z = utils.ifft(z)\n",
    "            \n",
    "            u = u + x - z\n",
    "        \n",
    "        return torch.cat((x, z, u), dim = 1)\n",
    "    \n",
    "    \n",
    "class SpiSolverMixin:\n",
    "    def _forward_spi(self, env_ob, parameters):\n",
    "        mu, sigma_d = parameters['mu'], parameters['sigma_d']\n",
    "        state = env_ob['output']\n",
    "        K = env_ob['K']\n",
    "        \n",
    "        x, z, u = torch.chunk(state, chunks = 3, dim = 1)\n",
    "        \n",
    "        B = state.shape[0]\n",
    "        \n",
    "        K = K[:, 0, 0, 0].view(B, 1, 1, 1) * 10 \n",
    "        K1 = env_ob['x0'] * (K ** 2)\n",
    "        \n",
    "        for i in range(self.iter_num):\n",
    "            _sigma_d = sigma_d[:, i]\n",
    "            _mu = mu[:, i]        \n",
    "            _mu = _mu.view(B, 1, 1, 1)\n",
    "\n",
    "            # z step (x + u)\n",
    "            z = utils.spi_inverse(x + u, K1, K, _mu)\n",
    "\n",
    "            # u step\n",
    "            u = u + x - z\n",
    "\n",
    "            # x step\n",
    "            x = self.denoiser((z - u).real, _sigma_d) \n",
    "        \n",
    "        return torch.cat((x, z, u), dim = 1) \n",
    "    \n",
    "class PnPSolver(PrSolverMixin, SpiSolverMixin, CsmriSolverMixin):\n",
    "    def __init__(self) -> None:\n",
    "        super().__init__()\n",
    "        self.denoiser = UNetDenoiser2D()\n",
    "        self.iter_num = 6\n",
    "        \n",
    "    def forward(self, env_ob, parameters):\n",
    "        return self._forward_spi(env_ob, parameters)\n",
    "    \n",
    "env_ob = {}\n",
    "parameters = {}\n",
    "    \n",
    "env_ob['output'] = torch.rand(1, 3, 128, 128)\n",
    "env_ob['x0'] = torch.rand(1, 1, 128, 128)\n",
    "env_ob['y0'] = torch.rand(1, 1, 128, 128)\n",
    "env_ob['K'] = torch.rand(1, 1, 128, 128)\n",
    "env_ob['mask'] = torch.from_numpy(csmri_mask[0].reshape(1, 1, 128, 128))\n",
    "\n",
    "#env_ob['mask'] = torch.from_numpy(pr_mask[0]).to(dtype=torch.complex64).reshape(1, 2, 128, 128)\n",
    "\n",
    "parameters['sigma_d'] = torch.rand(1, 6)\n",
    "parameters['mu'] = torch.rand(1, 6)\n",
    "parameters['tau'] = torch.rand(1, 6)\n",
    "#parameters['tau'] = torch.rand(1, 6)"
   ]
  },
  {
   "cell_type": "code",
   "execution_count": 28,
   "metadata": {},
   "outputs": [
    {
     "data": {
      "text/plain": [
       "tensor([[[[ 0.8680,  0.9779,  0.9051,  ...,  0.7032,  0.6159,  0.6657],\n",
       "          [ 1.0000,  1.0000,  0.9062,  ...,  0.7946,  0.7446,  0.6229],\n",
       "          [ 0.9484,  0.8183,  0.6790,  ...,  0.8326,  0.8503,  0.6723],\n",
       "          ...,\n",
       "          [ 0.6734,  0.6201,  0.5191,  ...,  0.8732,  0.5589,  0.7157],\n",
       "          [ 0.6691,  0.5972,  0.5415,  ...,  0.8157,  0.5747,  0.7602],\n",
       "          [ 0.4294,  0.3219,  0.4631,  ...,  0.8307,  0.7054,  0.7777]],\n",
       "\n",
       "         [[ 0.6000,  1.0000,  1.0000,  ...,  0.7890,  0.5312,  0.4367],\n",
       "          [ 1.0000,  1.0000,  1.0000,  ...,  1.0000,  0.6214,  0.2970],\n",
       "          [ 1.0000,  1.0000,  0.0757,  ...,  0.9856,  1.0000,  0.5001],\n",
       "          ...,\n",
       "          [ 0.1434,  0.8255,  0.0199,  ...,  1.0000,  0.4678,  1.0000],\n",
       "          [ 0.9587,  0.2132,  0.3948,  ...,  1.0000,  0.4453,  1.0000],\n",
       "          [ 0.2154,  0.0843,  0.2637,  ...,  1.0000,  0.6300,  1.0000]],\n",
       "\n",
       "         [[ 0.1491, -0.8104, -0.5713,  ..., -0.0453, -0.0125, -0.0502],\n",
       "          [-0.7976, -0.6402, -0.1492,  ..., -0.0547, -0.1734, -0.0234],\n",
       "          [-0.0458, -0.5070,  1.1182,  ..., -0.4110, -0.6376,  0.1047],\n",
       "          ...,\n",
       "          [ 0.4334, -0.2670,  1.2344,  ..., -0.2171, -0.0435, -0.5139],\n",
       "          [-0.6213,  0.2108,  0.1407,  ..., -0.2216, -0.0051, -0.2287],\n",
       "          [ 0.2732,  0.9887,  0.0398,  ..., -0.0765,  0.0293, -0.2972]]]])"
      ]
     },
     "execution_count": 28,
     "metadata": {},
     "output_type": "execute_result"
    }
   ],
   "source": [
    "solver = PnPSolver()\n",
    "\n",
    "solver.forward(env_ob, parameters)"
   ]
  },
  {
   "cell_type": "code",
   "execution_count": 38,
   "metadata": {},
   "outputs": [
    {
     "ename": "RuntimeError",
     "evalue": "mat1 and mat2 shapes cannot be multiplied (1x5408 and 32x128)",
     "output_type": "error",
     "traceback": [
      "\u001b[0;31m---------------------------------------------------------------------------\u001b[0m",
      "\u001b[0;31mRuntimeError\u001b[0m                              Traceback (most recent call last)",
      "\u001b[1;32m/Users/joesh/D4IR/Untitled-1.ipynb Cell 12\u001b[0m in \u001b[0;36m1\n\u001b[1;32m      <a href='vscode-notebook-cell:/Users/joesh/D4IR/Untitled-1.ipynb#X15sZmlsZQ%3D%3D?line=0'>1</a>\u001b[0m network \u001b[39m=\u001b[39m nn\u001b[39m.\u001b[39mSequential(\n\u001b[1;32m      <a href='vscode-notebook-cell:/Users/joesh/D4IR/Untitled-1.ipynb#X15sZmlsZQ%3D%3D?line=1'>2</a>\u001b[0m         nn\u001b[39m.\u001b[39mConv2d(\u001b[39m4\u001b[39m, \u001b[39m32\u001b[39m, kernel_size\u001b[39m=\u001b[39m\u001b[39m5\u001b[39m, stride\u001b[39m=\u001b[39m\u001b[39m2\u001b[39m),\n\u001b[1;32m      <a href='vscode-notebook-cell:/Users/joesh/D4IR/Untitled-1.ipynb#X15sZmlsZQ%3D%3D?line=2'>3</a>\u001b[0m         nn\u001b[39m.\u001b[39mReLU(),\n\u001b[0;32m   (...)\u001b[0m\n\u001b[1;32m     <a href='vscode-notebook-cell:/Users/joesh/D4IR/Untitled-1.ipynb#X15sZmlsZQ%3D%3D?line=12'>13</a>\u001b[0m         nn\u001b[39m.\u001b[39mLinear(\u001b[39m32\u001b[39m , \u001b[39m128\u001b[39m)\n\u001b[1;32m     <a href='vscode-notebook-cell:/Users/joesh/D4IR/Untitled-1.ipynb#X15sZmlsZQ%3D%3D?line=13'>14</a>\u001b[0m     )\n\u001b[1;32m     <a href='vscode-notebook-cell:/Users/joesh/D4IR/Untitled-1.ipynb#X15sZmlsZQ%3D%3D?line=15'>16</a>\u001b[0m x \u001b[39m=\u001b[39m torch\u001b[39m.\u001b[39mrand(\u001b[39m1\u001b[39m, \u001b[39m4\u001b[39m, \u001b[39m128\u001b[39m ,\u001b[39m128\u001b[39m)\n\u001b[0;32m---> <a href='vscode-notebook-cell:/Users/joesh/D4IR/Untitled-1.ipynb#X15sZmlsZQ%3D%3D?line=17'>18</a>\u001b[0m network(x)\n",
      "File \u001b[0;32m/opt/miniconda3/lib/python3.9/site-packages/torch/nn/modules/module.py:1518\u001b[0m, in \u001b[0;36mModule._wrapped_call_impl\u001b[0;34m(self, *args, **kwargs)\u001b[0m\n\u001b[1;32m   1516\u001b[0m     \u001b[39mreturn\u001b[39;00m \u001b[39mself\u001b[39m\u001b[39m.\u001b[39m_compiled_call_impl(\u001b[39m*\u001b[39margs, \u001b[39m*\u001b[39m\u001b[39m*\u001b[39mkwargs)  \u001b[39m# type: ignore[misc]\u001b[39;00m\n\u001b[1;32m   1517\u001b[0m \u001b[39melse\u001b[39;00m:\n\u001b[0;32m-> 1518\u001b[0m     \u001b[39mreturn\u001b[39;00m \u001b[39mself\u001b[39;49m\u001b[39m.\u001b[39;49m_call_impl(\u001b[39m*\u001b[39;49margs, \u001b[39m*\u001b[39;49m\u001b[39m*\u001b[39;49mkwargs)\n",
      "File \u001b[0;32m/opt/miniconda3/lib/python3.9/site-packages/torch/nn/modules/module.py:1527\u001b[0m, in \u001b[0;36mModule._call_impl\u001b[0;34m(self, *args, **kwargs)\u001b[0m\n\u001b[1;32m   1522\u001b[0m \u001b[39m# If we don't have any hooks, we want to skip the rest of the logic in\u001b[39;00m\n\u001b[1;32m   1523\u001b[0m \u001b[39m# this function, and just call forward.\u001b[39;00m\n\u001b[1;32m   1524\u001b[0m \u001b[39mif\u001b[39;00m \u001b[39mnot\u001b[39;00m (\u001b[39mself\u001b[39m\u001b[39m.\u001b[39m_backward_hooks \u001b[39mor\u001b[39;00m \u001b[39mself\u001b[39m\u001b[39m.\u001b[39m_backward_pre_hooks \u001b[39mor\u001b[39;00m \u001b[39mself\u001b[39m\u001b[39m.\u001b[39m_forward_hooks \u001b[39mor\u001b[39;00m \u001b[39mself\u001b[39m\u001b[39m.\u001b[39m_forward_pre_hooks\n\u001b[1;32m   1525\u001b[0m         \u001b[39mor\u001b[39;00m _global_backward_pre_hooks \u001b[39mor\u001b[39;00m _global_backward_hooks\n\u001b[1;32m   1526\u001b[0m         \u001b[39mor\u001b[39;00m _global_forward_hooks \u001b[39mor\u001b[39;00m _global_forward_pre_hooks):\n\u001b[0;32m-> 1527\u001b[0m     \u001b[39mreturn\u001b[39;00m forward_call(\u001b[39m*\u001b[39;49margs, \u001b[39m*\u001b[39;49m\u001b[39m*\u001b[39;49mkwargs)\n\u001b[1;32m   1529\u001b[0m \u001b[39mtry\u001b[39;00m:\n\u001b[1;32m   1530\u001b[0m     result \u001b[39m=\u001b[39m \u001b[39mNone\u001b[39;00m\n",
      "File \u001b[0;32m/opt/miniconda3/lib/python3.9/site-packages/torch/nn/modules/container.py:215\u001b[0m, in \u001b[0;36mSequential.forward\u001b[0;34m(self, input)\u001b[0m\n\u001b[1;32m    213\u001b[0m \u001b[39mdef\u001b[39;00m \u001b[39mforward\u001b[39m(\u001b[39mself\u001b[39m, \u001b[39minput\u001b[39m):\n\u001b[1;32m    214\u001b[0m     \u001b[39mfor\u001b[39;00m module \u001b[39min\u001b[39;00m \u001b[39mself\u001b[39m:\n\u001b[0;32m--> 215\u001b[0m         \u001b[39minput\u001b[39m \u001b[39m=\u001b[39m module(\u001b[39minput\u001b[39;49m)\n\u001b[1;32m    216\u001b[0m     \u001b[39mreturn\u001b[39;00m \u001b[39minput\u001b[39m\n",
      "File \u001b[0;32m/opt/miniconda3/lib/python3.9/site-packages/torch/nn/modules/module.py:1518\u001b[0m, in \u001b[0;36mModule._wrapped_call_impl\u001b[0;34m(self, *args, **kwargs)\u001b[0m\n\u001b[1;32m   1516\u001b[0m     \u001b[39mreturn\u001b[39;00m \u001b[39mself\u001b[39m\u001b[39m.\u001b[39m_compiled_call_impl(\u001b[39m*\u001b[39margs, \u001b[39m*\u001b[39m\u001b[39m*\u001b[39mkwargs)  \u001b[39m# type: ignore[misc]\u001b[39;00m\n\u001b[1;32m   1517\u001b[0m \u001b[39melse\u001b[39;00m:\n\u001b[0;32m-> 1518\u001b[0m     \u001b[39mreturn\u001b[39;00m \u001b[39mself\u001b[39;49m\u001b[39m.\u001b[39;49m_call_impl(\u001b[39m*\u001b[39;49margs, \u001b[39m*\u001b[39;49m\u001b[39m*\u001b[39;49mkwargs)\n",
      "File \u001b[0;32m/opt/miniconda3/lib/python3.9/site-packages/torch/nn/modules/module.py:1527\u001b[0m, in \u001b[0;36mModule._call_impl\u001b[0;34m(self, *args, **kwargs)\u001b[0m\n\u001b[1;32m   1522\u001b[0m \u001b[39m# If we don't have any hooks, we want to skip the rest of the logic in\u001b[39;00m\n\u001b[1;32m   1523\u001b[0m \u001b[39m# this function, and just call forward.\u001b[39;00m\n\u001b[1;32m   1524\u001b[0m \u001b[39mif\u001b[39;00m \u001b[39mnot\u001b[39;00m (\u001b[39mself\u001b[39m\u001b[39m.\u001b[39m_backward_hooks \u001b[39mor\u001b[39;00m \u001b[39mself\u001b[39m\u001b[39m.\u001b[39m_backward_pre_hooks \u001b[39mor\u001b[39;00m \u001b[39mself\u001b[39m\u001b[39m.\u001b[39m_forward_hooks \u001b[39mor\u001b[39;00m \u001b[39mself\u001b[39m\u001b[39m.\u001b[39m_forward_pre_hooks\n\u001b[1;32m   1525\u001b[0m         \u001b[39mor\u001b[39;00m _global_backward_pre_hooks \u001b[39mor\u001b[39;00m _global_backward_hooks\n\u001b[1;32m   1526\u001b[0m         \u001b[39mor\u001b[39;00m _global_forward_hooks \u001b[39mor\u001b[39;00m _global_forward_pre_hooks):\n\u001b[0;32m-> 1527\u001b[0m     \u001b[39mreturn\u001b[39;00m forward_call(\u001b[39m*\u001b[39;49margs, \u001b[39m*\u001b[39;49m\u001b[39m*\u001b[39;49mkwargs)\n\u001b[1;32m   1529\u001b[0m \u001b[39mtry\u001b[39;00m:\n\u001b[1;32m   1530\u001b[0m     result \u001b[39m=\u001b[39m \u001b[39mNone\u001b[39;00m\n",
      "File \u001b[0;32m/opt/miniconda3/lib/python3.9/site-packages/torch/nn/modules/linear.py:114\u001b[0m, in \u001b[0;36mLinear.forward\u001b[0;34m(self, input)\u001b[0m\n\u001b[1;32m    113\u001b[0m \u001b[39mdef\u001b[39;00m \u001b[39mforward\u001b[39m(\u001b[39mself\u001b[39m, \u001b[39minput\u001b[39m: Tensor) \u001b[39m-\u001b[39m\u001b[39m>\u001b[39m Tensor:\n\u001b[0;32m--> 114\u001b[0m     \u001b[39mreturn\u001b[39;00m F\u001b[39m.\u001b[39;49mlinear(\u001b[39minput\u001b[39;49m, \u001b[39mself\u001b[39;49m\u001b[39m.\u001b[39;49mweight, \u001b[39mself\u001b[39;49m\u001b[39m.\u001b[39;49mbias)\n",
      "\u001b[0;31mRuntimeError\u001b[0m: mat1 and mat2 shapes cannot be multiplied (1x5408 and 32x128)"
     ]
    }
   ],
   "source": [
    "network = nn.Sequential(\n",
    "        nn.Conv2d(4, 8, kernel_size=5, stride=2),\n",
    "        nn.ReLU(),\n",
    "\n",
    "        nn.Conv2d(32, 32, kernel_size=5, stride=2),\n",
    "        nn.ReLU(),\n",
    "\n",
    "        nn.Conv2d(32, 32, kernel_size=4, stride=2),\n",
    "        nn.ReLU(),\n",
    "\n",
    "        nn.Flatten(),\n",
    "\n",
    "        nn.Linear(32 , 128)\n",
    "    )\n",
    "\n",
    "x = torch.rand(1, 4, 128 ,128)\n",
    "\n",
    "network(x)"
   ]
  },
  {
   "cell_type": "code",
   "execution_count": 40,
   "metadata": {},
   "outputs": [
    {
     "data": {
      "text/plain": [
       "tensor([[ 0.0245, -0.0012,  0.0085, -0.0094,  0.0010, -0.0160,  0.0282, -0.0136,\n",
       "         -0.0044, -0.0340, -0.0468, -0.0055,  0.0178, -0.0037, -0.0244,  0.0261,\n",
       "          0.0283,  0.0080, -0.0100, -0.0217,  0.0356,  0.0041, -0.0347,  0.0093,\n",
       "         -0.0143,  0.0103,  0.0178,  0.0365, -0.0155, -0.0015,  0.0004, -0.0254,\n",
       "          0.0246,  0.0352, -0.0214,  0.0106,  0.0361,  0.0497, -0.0351, -0.0080,\n",
       "         -0.0099, -0.0089,  0.0223, -0.0018, -0.0564,  0.0129,  0.0228, -0.0029,\n",
       "         -0.0040,  0.0499,  0.0075,  0.0153, -0.0106,  0.0033, -0.0236,  0.0061,\n",
       "         -0.0042, -0.0030,  0.0290,  0.0016, -0.0178,  0.0302, -0.0139, -0.0222,\n",
       "          0.0126, -0.0194,  0.0227, -0.0178, -0.0216, -0.0060, -0.0216, -0.0349,\n",
       "         -0.0203,  0.0200,  0.0162, -0.0082,  0.0255,  0.0110, -0.0091,  0.0120,\n",
       "          0.0133,  0.0114,  0.0436, -0.0052,  0.0147,  0.0013, -0.0289, -0.0316,\n",
       "          0.0342, -0.0082, -0.0032,  0.0039,  0.0262,  0.0052, -0.0118,  0.0275,\n",
       "          0.0249, -0.0089,  0.0133,  0.0066, -0.0238,  0.0293, -0.0099,  0.0100,\n",
       "         -0.0044, -0.0063, -0.0030, -0.0284,  0.0275, -0.0081, -0.0067,  0.0235,\n",
       "         -0.0058, -0.0086, -0.0622,  0.0018, -0.0125,  0.0247, -0.0324,  0.0092,\n",
       "         -0.0065,  0.0163, -0.0026, -0.0280, -0.0282, -0.0039,  0.0082, -0.0341]],\n",
       "       grad_fn=<AddmmBackward0>)"
      ]
     },
     "execution_count": 40,
     "metadata": {},
     "output_type": "execute_result"
    }
   ],
   "source": [
    "import torch.nn as nn\n",
    "\n",
    "state_encoder = nn.Sequential(\n",
    "                                nn.Conv2d(4, 8, 5, stride = 4, padding = 0), nn.ReLU(),\n",
    "                                nn.Conv2d(8, 16, 5, stride = 2, padding = 0), nn.ReLU(),\n",
    "                                nn.Conv2d(16, 16, 4, stride = 1, padding = 0), nn.ReLU(),\n",
    "                                nn.Flatten(), nn.Linear(1936, 128))\n",
    "\n",
    "\n",
    "x = torch.rand(1, 4, 128 ,128)\n",
    "\n",
    "state_encoder(x)\n",
    "\n"
   ]
  },
  {
   "cell_type": "code",
   "execution_count": null,
   "metadata": {},
   "outputs": [],
   "source": []
  },
  {
   "cell_type": "code",
   "execution_count": null,
   "metadata": {},
   "outputs": [],
   "source": []
  },
  {
   "cell_type": "code",
   "execution_count": 57,
   "metadata": {},
   "outputs": [
    {
     "data": {
      "text/plain": [
       "[]"
      ]
     },
     "execution_count": 57,
     "metadata": {},
     "output_type": "execute_result"
    }
   ],
   "source": [
    "from dataclasses import dataclass, field\n",
    "from typing import List\n",
    "\n",
    "class ElementBuffer:\n",
    "    csmri_5_noise: List[float] = []\n",
    "    csmri_10_noise: List[float] = []\n",
    "    spi_4_k: List[int] = []\n",
    "    spi_8_k: List[int] = []\n",
    "    pr_27_alpha: List[float] = []\n",
    "    pr_81_alpha: List[float] = []\n",
    "\n",
    "buffer = ElementBuffer()\n",
    "\n",
    "\n",
    "buffer.csmri_5_noise\n",
    "getattr(buffer, csmri_5_noise)\n"
   ]
  },
  {
   "cell_type": "code",
   "execution_count": 59,
   "metadata": {},
   "outputs": [
    {
     "data": {
      "text/plain": [
       "[]"
      ]
     },
     "execution_count": 59,
     "metadata": {},
     "output_type": "execute_result"
    }
   ],
   "source": [
    "getattr(buffer, 'csmri_5_noise')"
   ]
  }
 ],
 "metadata": {
  "kernelspec": {
   "display_name": "Python 3",
   "language": "python",
   "name": "python3"
  },
  "language_info": {
   "codemirror_mode": {
    "name": "ipython",
    "version": 3
   },
   "file_extension": ".py",
   "mimetype": "text/x-python",
   "name": "python",
   "nbconvert_exporter": "python",
   "pygments_lexer": "ipython3",
   "version": "3.9.12"
  },
  "orig_nbformat": 4
 },
 "nbformat": 4,
 "nbformat_minor": 2
}
